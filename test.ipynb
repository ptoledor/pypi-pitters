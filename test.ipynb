{
 "cells": [
  {
   "cell_type": "code",
   "execution_count": 11,
   "metadata": {},
   "outputs": [],
   "source": [
    "import unicodedata"
   ]
  },
  {
   "cell_type": "code",
   "execution_count": 5,
   "metadata": {},
   "outputs": [
    {
     "data": {
      "text/plain": [
       "'Hola'"
      ]
     },
     "execution_count": 5,
     "metadata": {},
     "output_type": "execute_result"
    }
   ],
   "source": [
    "pitters.standard_string(cadena='hOlá', case='capitalize')"
   ]
  },
  {
   "cell_type": "code",
   "execution_count": 12,
   "metadata": {},
   "outputs": [],
   "source": [
    "def standard_string(cadena, case='original', keep_enie=False):\n",
    "\n",
    "    #Quita espacios excesivos    \n",
    "    cadena = ' '.join(cadena.split())\n",
    "    \n",
    "    #Deja el case requerido\n",
    "    if case == 'original':\n",
    "        pass\n",
    "    elif case == 'upper':\n",
    "        cadena = cadena.upper()\n",
    "\n",
    "    elif case =='lower':\n",
    "        cadena = cadena.lower()\n",
    "\n",
    "    elif case == 'capitalize' or case == 'capital':\n",
    "        cadena = cadena.capitalize()\n",
    "\n",
    "    else:\n",
    "        ValueError(\"El argumento de 'case' = ['upper', 'lower', 'capitalize', 'original']\")\n",
    "\n",
    "    #Quita acentos y non-ASCII characters\n",
    "    if keep_enie == True:\n",
    "        cadena = cadena.replace(\"ñ\", \"#!#\").replace(\"Ñ\", \"$!$\")\n",
    "        cadena = unicodedata.normalize('NFKD', cadena).encode('ascii','ignore').decode('ascii')\n",
    "        cadena = cadena.replace(\"#!#\", \"ñ\").replace(\"$!$\", \"Ñ\")\n",
    "    else:\n",
    "        cadena = unicodedata.normalize('NFKD', cadena).encode('ascii','ignore').decode('ascii')\n",
    "\n",
    "    return cadena"
   ]
  },
  {
   "cell_type": "code",
   "execution_count": 14,
   "metadata": {},
   "outputs": [
    {
     "data": {
      "text/plain": [
       "'Hola'"
      ]
     },
     "execution_count": 14,
     "metadata": {},
     "output_type": "execute_result"
    }
   ],
   "source": [
    "standard_string(cadena='hOlá', case='capital')"
   ]
  }
 ],
 "metadata": {
  "kernelspec": {
   "display_name": "pypi",
   "language": "python",
   "name": "python3"
  },
  "language_info": {
   "codemirror_mode": {
    "name": "ipython",
    "version": 3
   },
   "file_extension": ".py",
   "mimetype": "text/x-python",
   "name": "python",
   "nbconvert_exporter": "python",
   "pygments_lexer": "ipython3",
   "version": "3.8.8"
  },
  "orig_nbformat": 4
 },
 "nbformat": 4,
 "nbformat_minor": 2
}
